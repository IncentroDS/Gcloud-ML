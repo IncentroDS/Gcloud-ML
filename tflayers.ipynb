{
 "cells": [
  {
   "cell_type": "markdown",
   "metadata": {},
   "source": [
    "<h1> 2c. Monitoring when using tf.layers </h1>\n",
    "\n",
    "This [extra] notebook illustrates how to manually add summary operations to nodes, save their values during training and visualize them over training epochs."
   ]
  },
  {
   "cell_type": "code",
   "execution_count": 1,
   "metadata": {
    "collapsed": true
   },
   "outputs": [],
   "source": [
    "import datalab.bigquery as bq\n",
    "import tensorflow as tf\n",
    "import pandas as pd\n",
    "import numpy as np\n",
    "import shutil"
   ]
  },
  {
   "cell_type": "markdown",
   "metadata": {},
   "source": [
    "Code to read data and compute error is the same as Lab2a."
   ]
  },
  {
   "cell_type": "code",
   "execution_count": 2,
   "metadata": {
    "collapsed": false
   },
   "outputs": [
    {
     "data": {
      "text/html": [
       "<div>\n",
       "<table border=\"1\" class=\"dataframe\">\n",
       "  <thead>\n",
       "    <tr style=\"text-align: right;\">\n",
       "      <th></th>\n",
       "      <th>pickuplon</th>\n",
       "      <th>pickuplat</th>\n",
       "      <th>dropofflon</th>\n",
       "      <th>dropofflat</th>\n",
       "      <th>passengers</th>\n",
       "      <th>fare_amount</th>\n",
       "    </tr>\n",
       "  </thead>\n",
       "  <tbody>\n",
       "    <tr>\n",
       "      <th>0</th>\n",
       "      <td>-73.984162</td>\n",
       "      <td>40.767241</td>\n",
       "      <td>-73.967796</td>\n",
       "      <td>40.752417</td>\n",
       "      <td>1</td>\n",
       "      <td>9.7</td>\n",
       "    </tr>\n",
       "    <tr>\n",
       "      <th>1</th>\n",
       "      <td>-74.005099</td>\n",
       "      <td>40.719629</td>\n",
       "      <td>-74.010202</td>\n",
       "      <td>40.719718</td>\n",
       "      <td>3</td>\n",
       "      <td>5.3</td>\n",
       "    </tr>\n",
       "    <tr>\n",
       "      <th>2</th>\n",
       "      <td>-74.004951</td>\n",
       "      <td>40.748075</td>\n",
       "      <td>-74.013482</td>\n",
       "      <td>40.715892</td>\n",
       "      <td>1</td>\n",
       "      <td>9.5</td>\n",
       "    </tr>\n",
       "    <tr>\n",
       "      <th>3</th>\n",
       "      <td>-73.988091</td>\n",
       "      <td>40.733528</td>\n",
       "      <td>-73.939537</td>\n",
       "      <td>40.705488</td>\n",
       "      <td>3</td>\n",
       "      <td>17.5</td>\n",
       "    </tr>\n",
       "    <tr>\n",
       "      <th>4</th>\n",
       "      <td>-73.970687</td>\n",
       "      <td>40.764815</td>\n",
       "      <td>-73.984393</td>\n",
       "      <td>40.764038</td>\n",
       "      <td>5</td>\n",
       "      <td>5.3</td>\n",
       "    </tr>\n",
       "  </tbody>\n",
       "</table>\n",
       "</div>"
      ],
      "text/plain": [
       "   pickuplon  pickuplat  dropofflon  dropofflat  passengers  fare_amount\n",
       "0 -73.984162  40.767241  -73.967796   40.752417           1          9.7\n",
       "1 -74.005099  40.719629  -74.010202   40.719718           3          5.3\n",
       "2 -74.004951  40.748075  -74.013482   40.715892           1          9.5\n",
       "3 -73.988091  40.733528  -73.939537   40.705488           3         17.5\n",
       "4 -73.970687  40.764815  -73.984393   40.764038           5          5.3"
      ]
     },
     "execution_count": 2,
     "metadata": {},
     "output_type": "execute_result"
    }
   ],
   "source": [
    "def read_dataset(filename):\n",
    "  return pd.read_csv(filename, header=None, names=['pickuplon','pickuplat','dropofflon','dropofflat','passengers','fare_amount'])\n",
    "\n",
    "df_train = read_dataset('../lab1a/taxi-train.csv')\n",
    "df_valid = read_dataset('../lab1a/taxi-valid.csv')\n",
    "df_test = read_dataset('../lab1a/taxi-test.csv')\n",
    "df_train[:5]"
   ]
  },
  {
   "cell_type": "code",
   "execution_count": 3,
   "metadata": {
    "collapsed": false
   },
   "outputs": [],
   "source": [
    "FEATURE_COLS = np.arange(0,5)\n",
    "TARGET_COL   = 'fare_amount'"
   ]
  },
  {
   "cell_type": "code",
   "execution_count": 4,
   "metadata": {
    "collapsed": true
   },
   "outputs": [],
   "source": [
    "def compute_rmse(actual, predicted):\n",
    "  return np.sqrt(np.mean((actual-predicted)**2))\n",
    "\n",
    "def print_rmse(model):\n",
    "  print \"Train RMSE = {0}\".format(compute_rmse(df_train[TARGET_COL], model.predict(df_train.iloc[:,FEATURE_COLS].values)))\n",
    "  print \"Valid RMSE = {0}\".format(compute_rmse(df_valid[TARGET_COL], model.predict(df_valid.iloc[:,FEATURE_COLS].values)))"
   ]
  },
  {
   "cell_type": "markdown",
   "metadata": {},
   "source": [
    "<h3> DNN using tf.layers </h3>"
   ]
  },
  {
   "cell_type": "code",
   "execution_count": 5,
   "metadata": {
    "collapsed": false
   },
   "outputs": [
    {
     "name": "stdout",
     "output_type": "stream",
     "text": [
      "iter=1 train_error=10.3469288494\n",
      "iter=101 train_error=7.3345376958\n",
      "iter=201 train_error=6.60928236778\n",
      "iter=301 train_error=6.57825321644\n",
      "iter=401 train_error=6.57793345164\n",
      "iter=501 train_error=6.57793131167\n",
      "iter=601 train_error=6.57793498019\n",
      "iter=701 train_error=6.57793498019\n",
      "iter=801 train_error=6.57793498019\n",
      "iter=901 train_error=6.57793498019\n"
     ]
    }
   ],
   "source": [
    "predictors = df_train.iloc[:,FEATURE_COLS].values\n",
    "targets = df_train[TARGET_COL].values\n",
    "shutil.rmtree('taxi_model', ignore_errors=True) # start fresh each time\n",
    "modelprefix = 'taxi_model'\n",
    "with tf.Session() as sess:\n",
    "  npredictors = len(FEATURE_COLS)\n",
    "  noutputs = 1\n",
    "  feature_data = tf.placeholder(\"float\", [None, npredictors])\n",
    "  target_data = tf.placeholder(\"float\", [None, noutputs])\n",
    "  hidden = tf.contrib.layers.stack(feature_data, \n",
    "                                  tf.contrib.layers.fully_connected, \n",
    "                                  [64, 8],\n",
    "                                  activation_fn=tf.nn.relu,\n",
    "                                  biases_initializer=tf.ones,\n",
    "                                  scope='fc')\n",
    "  model = tf.contrib.layers.fully_connected(hidden, 1, activation_fn=None)\n",
    "  cost = tf.nn.l2_loss(model - target_data)\n",
    "  tf.scalar_summary(\"cost\", cost)\n",
    "  training_step = tf.contrib.layers.optimize_loss(cost, \n",
    "                                                  tf.contrib.framework.get_global_step(),\n",
    "                                                  optimizer='Adam', learning_rate=0.1)\n",
    "\n",
    "  summary_writer = tf.train.SummaryWriter('taxi_model',graph=sess.graph)\n",
    "\n",
    "  tf.initialize_all_variables().run()\n",
    "  merged_summary_op = tf.merge_all_summaries()\n",
    "  for iter in xrange(0, 1000):\n",
    "    _, trainerr, summary = sess.run([training_step, cost, merged_summary_op], feed_dict = {\n",
    "        feature_data : predictors,\n",
    "        target_data : targets.reshape(len(predictors), noutputs)\n",
    "      })\n",
    "    summary_writer.add_summary(summary)\n",
    "    if (iter%100 == 1):\n",
    "      trmse = np.sqrt(trainerr/len(predictors))     \n",
    "      print 'iter={0} train_error={1}'.format(iter, trmse)"
   ]
  },
  {
   "cell_type": "code",
   "execution_count": 6,
   "metadata": {
    "collapsed": false
   },
   "outputs": [
    {
     "data": {
      "text/html": [
       "<p>TensorBoard was started successfully with pid 4554. Click <a href=\"/_proxy/59802/\" target=\"_blank\">here</a> to access it.</p>"
      ],
      "text/plain": [
       "<IPython.core.display.HTML object>"
      ]
     },
     "execution_count": 6,
     "metadata": {},
     "output_type": "execute_result"
    }
   ],
   "source": [
    "%tensorboard start --logdir=taxi_model"
   ]
  },
  {
   "cell_type": "code",
   "execution_count": null,
   "metadata": {
    "collapsed": true
   },
   "outputs": [],
   "source": [
    "%tensorboard stop --pid=4554"
   ]
  }
 ],
 "metadata": {
  "kernelspec": {
   "display_name": "Python 2",
   "language": "python",
   "name": "python2"
  },
  "language_info": {
   "codemirror_mode": {
    "name": "ipython",
    "version": 2
   },
   "file_extension": ".py",
   "mimetype": "text/x-python",
   "name": "python",
   "nbconvert_exporter": "python",
   "pygments_lexer": "ipython2",
   "version": "2.7.9"
  }
 },
 "nbformat": 4,
 "nbformat_minor": 0
}
