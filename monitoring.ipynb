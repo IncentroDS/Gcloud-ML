{
 "cells": [
  {
   "cell_type": "markdown",
   "metadata": {},
   "source": [
    "<h1> 2c. Monitoring training </h1>\n",
    "\n",
    "This notebook is Lab2c of CPB 102, Google's course on Machine Learning using Cloud ML.\n",
    "\n",
    "In this notebook, we demonstrate monitoring the training of a TensorFlow model and visualizing the graph using TensorBoard. "
   ]
  },
  {
   "cell_type": "code",
   "execution_count": 5,
   "metadata": {
    "collapsed": true
   },
   "outputs": [],
   "source": [
    "import datalab.bigquery as bq\n",
    "import tensorflow as tf\n",
    "import pandas as pd\n",
    "import numpy as np\n",
    "import shutil"
   ]
  },
  {
   "cell_type": "markdown",
   "metadata": {},
   "source": [
    "Code here is same as Lab2a."
   ]
  },
  {
   "cell_type": "code",
   "execution_count": 6,
   "metadata": {
    "collapsed": false
   },
   "outputs": [],
   "source": [
    "def read_dataset(filename):\n",
    "  return pd.read_csv(filename, header=None, names=['pickuplon','pickuplat','dropofflon','dropofflat','passengers','fare_amount'])\n",
    "\n",
    "df_train = read_dataset('../lab1a/taxi-train.csv')\n",
    "df_valid = read_dataset('../lab1a/taxi-valid.csv')\n",
    "df_test = read_dataset('../lab1a/taxi-test.csv')\n",
    "df_train[:5]\n",
    "FEATURE_COLS = np.arange(0,5)\n",
    "TARGET_COL   = 'fare_amount'"
   ]
  },
  {
   "cell_type": "markdown",
   "metadata": {},
   "source": [
    "<h2> Monitoring tf.learn </h2>\n",
    "\n",
    "Set up logging, monitoring and early stopping."
   ]
  },
  {
   "cell_type": "code",
   "execution_count": 7,
   "metadata": {
    "collapsed": false
   },
   "outputs": [],
   "source": [
    "tf.logging.set_verbosity(tf.logging.INFO)\n",
    "validation_monitor = tf.contrib.learn.monitors.ValidationMonitor(\n",
    "    df_valid.iloc[:,FEATURE_COLS].values,\n",
    "    df_valid[TARGET_COL].values,\n",
    "    every_n_steps=50,\n",
    "    metrics=[\"loss\"],  # see slide notes for how to add other metrics\n",
    "    early_stopping_metric=\"loss\")"
   ]
  },
  {
   "cell_type": "markdown",
   "metadata": {},
   "source": [
    "Note the checkpointing parameter to LinearRegressor; increase the number of steps (to something like 10,000) to see the early stopping kick in."
   ]
  },
  {
   "cell_type": "code",
   "execution_count": 8,
   "metadata": {
    "collapsed": false
   },
   "outputs": [
    {
     "name": "stderr",
     "output_type": "stream",
     "text": [
      "WARNING:tensorflow:Setting feature info to TensorSignature(dtype=tf.float32, shape=TensorShape([Dimension(None), Dimension(5)]), is_sparse=False)\n",
      "WARNING:tensorflow:Setting targets info to TensorSignature(dtype=tf.float64, shape=TensorShape([Dimension(None)]), is_sparse=False)\n",
      "INFO:tensorflow:Transforming feature_column _RealValuedColumn(column_name='', dimension=5, default_value=None, dtype=tf.float32)\n",
      "INFO:tensorflow:Create CheckpointSaver\n",
      "INFO:tensorflow:Step 1: loss = 211.869\n",
      "INFO:tensorflow:Step 101: loss = 86.5553\n",
      "INFO:tensorflow:Step 201: loss = 86.5521\n",
      "INFO:tensorflow:Saving checkpoints for 300 into taxi_model/model.ckpt.\n",
      "INFO:tensorflow:Step 301: loss = 86.5501\n",
      "INFO:tensorflow:Step 401: loss = 86.5485\n",
      "INFO:tensorflow:Step 501: loss = 86.5471\n",
      "INFO:tensorflow:Saving checkpoints for 600 into taxi_model/model.ckpt.\n",
      "INFO:tensorflow:Step 601: loss = 86.546\n",
      "INFO:tensorflow:Step 701: loss = 86.5451\n",
      "INFO:tensorflow:Step 801: loss = 86.5441\n",
      "INFO:tensorflow:Saving checkpoints for 900 into taxi_model/model.ckpt.\n",
      "INFO:tensorflow:Step 901: loss = 86.5432\n",
      "INFO:tensorflow:Saving checkpoints for 1000 into taxi_model/model.ckpt.\n",
      "INFO:tensorflow:Loss for final step: 86.5425.\n"
     ]
    }
   ],
   "source": [
    "predictors = df_train.iloc[:,FEATURE_COLS].values # np.ndarray\n",
    "targets = df_train[TARGET_COL].values\n",
    "features = tf.contrib.learn.infer_real_valued_columns_from_input(predictors)\n",
    "shutil.rmtree('taxi_model', ignore_errors=True) # start fresh each time\n",
    "model = tf.contrib.learn.LinearRegressor(feature_columns=features,\n",
    "                                         model_dir='taxi_model',\n",
    "                    config=tf.contrib.learn.RunConfig(save_checkpoints_secs=1))\n",
    "\n",
    "model = model.fit(predictors, targets, steps=1000)"
   ]
  },
  {
   "cell_type": "markdown",
   "metadata": {},
   "source": [
    "Can use tensorboard to look at the training."
   ]
  },
  {
   "cell_type": "code",
   "execution_count": 9,
   "metadata": {
    "collapsed": false
   },
   "outputs": [
    {
     "data": {
      "text/html": [
       "<p>TensorBoard was started successfully with pid 4821. Click <a href=\"/_proxy/53431/\" target=\"_blank\">here</a> to access it.</p>"
      ],
      "text/plain": [
       "<IPython.core.display.HTML object>"
      ]
     },
     "execution_count": 9,
     "metadata": {},
     "output_type": "execute_result"
    }
   ],
   "source": [
    "%tensorboard start --logdir=taxi_model"
   ]
  },
  {
   "cell_type": "code",
   "execution_count": 12,
   "metadata": {
    "collapsed": false
   },
   "outputs": [],
   "source": [
    "%tensorboard stop --pid=4821"
   ]
  },
  {
   "cell_type": "markdown",
   "metadata": {},
   "source": [
    "Copyright 2016 Google Inc. Licensed under the Apache License, Version 2.0 (the \"License\"); you may not use this file except in compliance with the License. You may obtain a copy of the License at http://www.apache.org/licenses/LICENSE-2.0 Unless required by applicable law or agreed to in writing, software distributed under the License is distributed on an \"AS IS\" BASIS, WITHOUT WARRANTIES OR CONDITIONS OF ANY KIND, either express or implied. See the License for the specific language governing permissions and limitations under the License"
   ]
  }
 ],
 "metadata": {
  "kernelspec": {
   "display_name": "Python 2",
   "language": "python",
   "name": "python2"
  },
  "language_info": {
   "codemirror_mode": {
    "name": "ipython",
    "version": 2
   },
   "file_extension": ".py",
   "mimetype": "text/x-python",
   "name": "python",
   "nbconvert_exporter": "python",
   "pygments_lexer": "ipython2",
   "version": "2.7.9"
  }
 },
 "nbformat": 4,
 "nbformat_minor": 0
}
