{
 "cells": [
  {
   "cell_type": "markdown",
   "metadata": {},
   "source": [
    "<h1> Hyperparameter tuning </h1>\n",
    "\n",
    "This notebook is Lab4b of CPB 102, Google's course on Machine Learning using Cloud ML.\n",
    "\n",
    "This notebook builds on Lab 4a, adding hyperparameter tuning to the feature engineering done in that lab.  To save time, we will start from the preprocessed output of Lab 4a."
   ]
  },
  {
   "cell_type": "code",
   "execution_count": 5,
   "metadata": {
    "collapsed": false
   },
   "outputs": [
    {
     "name": "stdout",
     "output_type": "stream",
     "text": [
      "0.11.0rc0\n",
      "gs://cloud-ml/sdk/cloudml-0.1.6-alpha.dataflow.tar.gz\n"
     ]
    }
   ],
   "source": [
    "import google.cloud.ml as ml\n",
    "import tensorflow as tf\n",
    "print tf.__version__\n",
    "print ml.sdk_location"
   ]
  },
  {
   "cell_type": "markdown",
   "metadata": {},
   "source": [
    "<h1> Retreiving preprocessed data </h1>\n",
    "\n",
    "To save time, we'll go off the preprocessed data from Lab4a. To save time, let's start off from my Lab4a results (which I carried out on 10m row dataset).  Change the BUCKET below to be yours.\n",
    "\n",
    "Tuning is carried out over a segment of the training data (you should not use the validation data for this)."
   ]
  },
  {
   "cell_type": "code",
   "execution_count": 6,
   "metadata": {
    "collapsed": false
   },
   "outputs": [
    {
     "name": "stderr",
     "output_type": "stream",
     "text": [
      "Removing gs://cloud-training-demos-ml/taxifare/taxi_preproc4b/features_train-00000-of-00027.tfrecord.gz#1475538415429664...\n",
      "Removing gs://cloud-training-demos-ml/taxifare/taxi_preproc4b/features_train-00001-of-00027.tfrecord.gz#1475538415619002...\n",
      "Removing gs://cloud-training-demos-ml/taxifare/taxi_preproc4b/features_train-00002-of-00027.tfrecord.gz#1475538415620298...\n",
      "Removing gs://cloud-training-demos-ml/taxifare/taxi_preproc4b/features_train-00003-of-00027.tfrecord.gz#1475538416114089...\n",
      "Removing gs://cloud-training-demos-ml/taxifare/taxi_preproc4b/features_train-00004-of-00027.tfrecord.gz#1475538415596328...\n",
      "Removing gs://cloud-training-demos-ml/taxifare/taxi_preproc4b/features_train-00005-of-00027.tfrecord.gz#1475538416092076...\n",
      "Removing gs://cloud-training-demos-ml/taxifare/taxi_preproc4b/features_train-00006-of-00027.tfrecord.gz#1475538416046214...\n",
      "Removing gs://cloud-training-demos-ml/taxifare/taxi_preproc4b/features_train-00007-of-00027.tfrecord.gz#1475538415948834...\n",
      "Removing gs://cloud-training-demos-ml/taxifare/taxi_preproc4b/features_train-00008-of-00027.tfrecord.gz#1475538415933430...\n",
      "/ [1/18 objects]   5% Done                                                      \r",
      "/ [2/18 objects]  11% Done                                                      \r",
      "/ [3/18 objects]  16% Done                                                      \r",
      "/ [4/18 objects]  22% Done                                                      \r",
      "Removing gs://cloud-training-demos-ml/taxifare/taxi_preproc4b/features_train-00009-of-00027.tfrecord.gz#1475538416295143...\n",
      "/ [5/18 objects]  27% Done                                                      \r",
      "/ [6/18 objects]  33% Done                                                      \r",
      "/ [7/18 objects]  38% Done                                                      \r",
      "Removing gs://cloud-training-demos-ml/taxifare/taxi_preproc4b/features_train-00020-of-00027.tfrecord.gz#1475538417301142...\n",
      "Removing gs://cloud-training-demos-ml/taxifare/taxi_preproc4b/features_train-00021-of-00027.tfrecord.gz#1475538417280800...\n",
      "Removing gs://cloud-training-demos-ml/taxifare/taxi_preproc4b/features_train-00022-of-00027.tfrecord.gz#1475538419248581...\n",
      "Removing gs://cloud-training-demos-ml/taxifare/taxi_preproc4b/features_train-00023-of-00027.tfrecord.gz#1475538417802157...\n",
      "Removing gs://cloud-training-demos-ml/taxifare/taxi_preproc4b/features_train-00024-of-00027.tfrecord.gz#1475538417481475...\n",
      "/ [8/18 objects]  44% Done                                                      \r",
      "/ [9/18 objects]  50% Done                                                      \r",
      "/ [10/18 objects]  55% Done                                                     \r",
      "/ [11/18 objects]  61% Done                                                     \r",
      "Removing gs://cloud-training-demos-ml/taxifare/taxi_preproc4b/features_train-00025-of-00027.tfrecord.gz#1475538417939336...\n",
      "Removing gs://cloud-training-demos-ml/taxifare/taxi_preproc4b/features_train-00026-of-00027.tfrecord.gz#1475538417614141...\n",
      "/ [12/18 objects]  66% Done                                                     \r",
      "/ [13/18 objects]  72% Done                                                     \r",
      "/ [14/18 objects]  77% Done                                                     \r",
      "Removing gs://cloud-training-demos-ml/taxifare/taxi_preproc4b/metadata.yaml#1475538414363484...\n",
      "/ [15/18 objects]  83% Done                                                     \r",
      "/ [16/18 objects]  88% Done                                                     \r",
      "/ [17/18 objects]  94% Done                                                     \r",
      "/ [18/18 objects] 100% Done                                                     \r\n",
      "Operation completed over 18 objects.                                             \n",
      "Copying gs://cloud-training-demos/taxifare/taxi_preproc4a_full/metadata.yaml [Content-Type=text/plain]...\n",
      "/ [0 files][    0.0 B/  2.2 KiB]                                                \r",
      "/ [1 files][  2.2 KiB/  2.2 KiB]                                                \r\n",
      "Operation completed over 1 objects/2.2 KiB.                                      \n",
      "Copying gs://cloud-training-demos/taxifare/taxi_preproc4a_full/features_train-00000-of-00027.tfrecord.gz...\n",
      "/ [0/10 files][    0.0 B/ 55.6 MiB]   0% Done                                   \r",
      "Copying gs://cloud-training-demos/taxifare/taxi_preproc4a_full/features_train-00001-of-00027.tfrecord.gz...\n",
      "/ [0/10 files][    0.0 B/ 55.6 MiB]   0% Done                                   \r",
      "Copying gs://cloud-training-demos/taxifare/taxi_preproc4a_full/features_train-00002-of-00027.tfrecord.gz...\n",
      "/ [0/10 files][    0.0 B/ 55.6 MiB]   0% Done                                   \r",
      "Copying gs://cloud-training-demos/taxifare/taxi_preproc4a_full/features_train-00003-of-00027.tfrecord.gz...\n",
      "/ [0/10 files][    0.0 B/ 55.6 MiB]   0% Done                                   \r",
      "Copying gs://cloud-training-demos/taxifare/taxi_preproc4a_full/features_train-00004-of-00027.tfrecord.gz...\n",
      "/ [0/10 files][    0.0 B/ 55.6 MiB]   0% Done                                   \r",
      "Copying gs://cloud-training-demos/taxifare/taxi_preproc4a_full/features_train-00005-of-00027.tfrecord.gz...\n",
      "/ [1/10 files][645.6 KiB/ 55.6 MiB]   1% Done                                   \r",
      "/ [1/10 files][645.6 KiB/ 55.6 MiB]   1% Done                                   \r",
      "Copying gs://cloud-training-demos/taxifare/taxi_preproc4a_full/features_train-00006-of-00027.tfrecord.gz...\n",
      "-\r",
      "- [2/10 files][  8.2 MiB/ 55.6 MiB]  14% Done                                   \r",
      "- [2/10 files][  8.2 MiB/ 55.6 MiB]  14% Done                                   \r",
      "- [3/10 files][ 15.6 MiB/ 55.6 MiB]  28% Done                                   \r",
      "Copying gs://cloud-training-demos/taxifare/taxi_preproc4a_full/features_train-00007-of-00027.tfrecord.gz...\n",
      "- [3/10 files][ 15.6 MiB/ 55.6 MiB]  28% Done                                   \r",
      "Copying gs://cloud-training-demos/taxifare/taxi_preproc4a_full/features_train-00008-of-00027.tfrecord.gz...\n",
      "- [4/10 files][ 30.9 MiB/ 55.6 MiB]  55% Done                                   \r",
      "- [4/10 files][ 30.9 MiB/ 55.6 MiB]  55% Done                                   \r",
      "Copying gs://cloud-training-demos/taxifare/taxi_preproc4a_full/features_train-00009-of-00027.tfrecord.gz...\n",
      "- [5/10 files][ 34.3 MiB/ 55.6 MiB]  61% Done                                   \r",
      "- [5/10 files][ 34.3 MiB/ 55.6 MiB]  61% Done                                   \r",
      "- [6/10 files][ 43.0 MiB/ 55.6 MiB]  77% Done                                   \r",
      "- [7/10 files][ 45.2 MiB/ 55.6 MiB]  81% Done                                   \r",
      "- [8/10 files][ 46.1 MiB/ 55.6 MiB]  82% Done                                   \r",
      "\\\r",
      "\\ [9/10 files][ 46.5 MiB/ 55.6 MiB]  83% Done                                   \r",
      "\\ [10/10 files][ 55.6 MiB/ 55.6 MiB] 100% Done                                  \r\n",
      "Operation completed over 10 objects/55.6 MiB.                                    \n",
      "Copying gs://cloud-training-demos/taxifare/taxi_preproc4a_full/features_train-00020-of-00027.tfrecord.gz...\n",
      "/ [0/7 files][    0.0 B/ 94.7 MiB]   0% Done                                    \r",
      "Copying gs://cloud-training-demos/taxifare/taxi_preproc4a_full/features_train-00021-of-00027.tfrecord.gz...\n",
      "/ [0/7 files][    0.0 B/ 94.7 MiB]   0% Done                                    \r",
      "Copying gs://cloud-training-demos/taxifare/taxi_preproc4a_full/features_train-00022-of-00027.tfrecord.gz...\n",
      "/ [0/7 files][    0.0 B/ 94.7 MiB]   0% Done                                    \r",
      "Copying gs://cloud-training-demos/taxifare/taxi_preproc4a_full/features_train-00023-of-00027.tfrecord.gz...\n",
      "/ [0/7 files][    0.0 B/ 94.7 MiB]   0% Done                                    \r",
      "Copying gs://cloud-training-demos/taxifare/taxi_preproc4a_full/features_train-00024-of-00027.tfrecord.gz...\n",
      "/ [0/7 files][    0.0 B/ 94.7 MiB]   0% Done                                    \r",
      "Copying gs://cloud-training-demos/taxifare/taxi_preproc4a_full/features_train-00025-of-00027.tfrecord.gz...\n",
      "/ [1/7 files][647.9 KiB/ 94.7 MiB]   0% Done                                    \r",
      "/ [1/7 files][647.9 KiB/ 94.7 MiB]   0% Done                                    \r",
      "/ [2/7 files][  1.8 MiB/ 94.7 MiB]   1% Done                                    \r",
      "Copying gs://cloud-training-demos/taxifare/taxi_preproc4a_full/features_train-00026-of-00027.tfrecord.gz...\n",
      "/ [2/7 files][  1.8 MiB/ 94.7 MiB]   1% Done                                    \r",
      "-\r",
      "- [3/7 files][  2.5 MiB/ 94.7 MiB]   2% Done                                    \r",
      "- [4/7 files][  9.3 MiB/ 94.7 MiB]   9% Done                                    \r",
      "- [5/7 files][ 32.0 MiB/ 94.7 MiB]  33% Done                                    \r",
      "\\\r",
      "\\ [6/7 files][ 33.4 MiB/ 94.7 MiB]  35% Done                                    \r",
      "\\ [6/7 files][ 94.7 MiB/ 94.7 MiB]  99% Done                                    \r",
      "|\r",
      "| [7/7 files][ 94.7 MiB/ 94.7 MiB] 100% Done                                    \r\n",
      "Operation completed over 7 objects/94.7 MiB.                                     \n"
     ]
    }
   ],
   "source": [
    "%bash\n",
    "BUCKET=cloud-training-demos-ml\n",
    "\n",
    "SOURCE=gs://cloud-training-demos/taxifare/taxi_preproc4a_full\n",
    "gsutil -m rm -rf gs://$BUCKET/taxifare/taxi_preproc4b/\n",
    "gsutil cp $SOURCE/metadata.yaml gs://$BUCKET/taxifare/taxi_preproc4b/metadata.yaml\n",
    "for file in features_train-0000* features_train-0002*; do\n",
    "    gsutil -m cp $SOURCE/$file gs://$BUCKET/taxifare/taxi_preproc4b/\n",
    "done"
   ]
  },
  {
   "cell_type": "markdown",
   "metadata": {},
   "source": [
    "<h2> Modify TensorFlow code </h2>\n",
    "\n",
    "We want to make the number of buckets and the number of hidden nodes an optimizable parameter.\n",
    "In order to do this, we have to get them from the command-line.\n",
    "\n",
    "This shows all the code that now references the number_buckets hyperparameter."
   ]
  },
  {
   "cell_type": "code",
   "execution_count": 7,
   "metadata": {
    "collapsed": false
   },
   "outputs": [
    {
     "name": "stdout",
     "output_type": "stream",
     "text": [
      "taxifare/trainer/task.py-  parser.add_argument('--metadata_path', type=str)\n",
      "taxifare/trainer/task.py-  parser.add_argument('--output_path', type=str)\n",
      "taxifare/trainer/task.py-  parser.add_argument('--max_steps', type=int, default=2000)\n",
      "taxifare/trainer/task.py:  parser.add_argument('--number_buckets', type=int, default=5)\n",
      "taxifare/trainer/task.py-  parser.add_argument('--hidden_layer1_size', type=int, default=256)\n",
      "taxifare/trainer/task.py-\n",
      "taxifare/trainer/task.py-  args = parser.parse_args()\n",
      "taxifare/trainer/task.py-  HYPERPARAMS['hidden_layer1_size'] = args.hidden_layer1_size\n",
      "taxifare/trainer/task.py-  HYPERPARAMS['hidden_layer2_size'] = args.hidden_layer1_size / 2\n",
      "taxifare/trainer/task.py-  HYPERPARAMS['hidden_layer3_size'] = args.hidden_layer1_size / 4\n",
      "taxifare/trainer/task.py:  HYPERPARAMS['number_buckets'] = args.number_buckets\n",
      "taxifare/trainer/task.py-  \n",
      "taxifare/trainer/task.py-  args.output_path = os.path.join(args.output_path, trial_id)\n",
      "taxifare/trainer/task.py-  logging.info(\"start trial %s outputs in %s\", trial_id, args.output_path)\n",
      "--\n",
      "taxifare/trainer/task.py-  'hidden_layer1_size': 300,\n",
      "taxifare/trainer/task.py-  'hidden_layer2_size': 200,\n",
      "taxifare/trainer/task.py-  'hidden_layer3_size': 100,\n",
      "taxifare/trainer/task.py:  'number_buckets': 5\n",
      "taxifare/trainer/task.py-}\n",
      "taxifare/trainer/task.py-EVAL_SET_SIZE = 2767\n",
      "taxifare/trainer/task.py-EVAL_INTERVAL_SECS = 30\n",
      "--\n",
      "taxifare/trainer/taxifare.py-      input_data = tf.placeholder(tf.string, name='input', shape=(None,))\n",
      "taxifare/trainer/taxifare.py-    parsed = features.FeatureMetadata.parse_features(metadata, input_data)\n",
      "taxifare/trainer/taxifare.py-\n",
      "taxifare/trainer/taxifare.py:    NUMBUCKETS = hyperparams['number_buckets']\n",
      "taxifare/trainer/taxifare.py-\n",
      "taxifare/trainer/taxifare.py-    # [batchsize, 1] \n",
      "taxifare/trainer/taxifare.py-    plat = parsed['plat']\n",
      "--\n",
      "taxifare/trainer/taxifare.py-\n",
      "taxifare/trainer/taxifare.py-def inference(inputs, metadata, hyperparams):\n",
      "taxifare/trainer/taxifare.py-  # input_size = metadata.features['inputs']['size']\n",
      "taxifare/trainer/taxifare.py:  NUMBUCKETS = hyperparams['number_buckets']\n",
      "taxifare/trainer/taxifare.py-  input_size = 6 + (NUMBUCKETS**2) * 2 + (NUMBUCKETS**4) + 4\n",
      "taxifare/trainer/taxifare.py-  output_size = metadata.features['fare_amount']['size']\n",
      "taxifare/trainer/taxifare.py-\n"
     ]
    }
   ],
   "source": [
    "%bash\n",
    "grep -3 number_buckets taxifare/trainer/*.py"
   ]
  },
  {
   "cell_type": "markdown",
   "metadata": {},
   "source": [
    "We also have to add a summary metric named <b>training/hptuning/metric</b> to the TensorFlow graph."
   ]
  },
  {
   "cell_type": "code",
   "execution_count": null,
   "metadata": {
    "collapsed": false
   },
   "outputs": [],
   "source": [
    "%bash\n",
    "grep -3 hptuning taxifare/trainer/task.py"
   ]
  },
  {
   "cell_type": "markdown",
   "metadata": {},
   "source": [
    "<h2> Train once </h2>\n",
    "\n",
    "Here, we package up the code and train as normal."
   ]
  },
  {
   "cell_type": "code",
   "execution_count": 8,
   "metadata": {
    "collapsed": false
   },
   "outputs": [
    {
     "name": "stdout",
     "output_type": "stream",
     "text": [
      "taxifare/\n",
      "taxifare/PKG-INFO\n",
      "taxifare/setup.cfg\n",
      "taxifare/trainer.egg-info/\n",
      "taxifare/trainer.egg-info/PKG-INFO\n",
      "taxifare/trainer.egg-info/top_level.txt\n",
      "taxifare/trainer.egg-info/dependency_links.txt\n",
      "taxifare/trainer.egg-info/SOURCES.txt\n",
      "taxifare/trainer/\n",
      "taxifare/trainer/task.py\n",
      "taxifare/trainer/taxifare.py\n",
      "taxifare/trainer/__init__.py\n",
      "taxifare/setup.py\n"
     ]
    },
    {
     "name": "stderr",
     "output_type": "stream",
     "text": [
      "Copying file://taxifare.tar.gz [Content-Type=application/x-tar]...\n",
      "/ [0 files][    0.0 B/  7.2 KiB]                                                \r",
      "/ [1 files][  7.2 KiB/  7.2 KiB]                                                \r\n",
      "Operation completed over 1 objects/7.2 KiB.                                      \n"
     ]
    }
   ],
   "source": [
    "%bash\n",
    "rm -rf taxifare.tar.gz taxi_trained\n",
    "tar cvfz taxifare.tar.gz taxifare\n",
    "gsutil cp taxifare.tar.gz gs://cloud-training-demos-ml/taxifare/source4b/taxifare.tar.gz"
   ]
  },
  {
   "cell_type": "code",
   "execution_count": 10,
   "metadata": {
    "collapsed": false
   },
   "outputs": [
    {
     "name": "stderr",
     "output_type": "stream",
     "text": [
      "Copying gs://cloud-training-demos-ml/taxifare/taxi_preproc4b/features_train-00000-of-00027.tfrecord.gz...\n",
      "/ [0/18 files][    0.0 B/150.3 MiB]   0% Done                                   \r",
      "Copying gs://cloud-training-demos-ml/taxifare/taxi_preproc4b/features_train-00001-of-00027.tfrecord.gz...\n",
      "/ [0/18 files][    0.0 B/150.3 MiB]   0% Done                                   \r",
      "Copying gs://cloud-training-demos-ml/taxifare/taxi_preproc4b/features_train-00002-of-00027.tfrecord.gz...\n",
      "/ [0/18 files][    0.0 B/150.3 MiB]   0% Done                                   \r",
      "Copying gs://cloud-training-demos-ml/taxifare/taxi_preproc4b/features_train-00003-of-00027.tfrecord.gz...\n",
      "/ [0/18 files][    0.0 B/150.3 MiB]   0% Done                                   \r",
      "Copying gs://cloud-training-demos-ml/taxifare/taxi_preproc4b/features_train-00004-of-00027.tfrecord.gz...\n",
      "/ [0/18 files][    0.0 B/150.3 MiB]   0% Done                                   \r",
      "Copying gs://cloud-training-demos-ml/taxifare/taxi_preproc4b/features_train-00005-of-00027.tfrecord.gz...\n",
      "/ [1/18 files][645.6 KiB/150.3 MiB]   0% Done                                   \r",
      "/ [1/18 files][645.6 KiB/150.3 MiB]   0% Done                                   \r",
      "/ [2/18 files][ 25.7 MiB/150.3 MiB]  17% Done                                   \r",
      "/ [3/18 files][ 25.7 MiB/150.3 MiB]  17% Done                                   \r",
      "Copying gs://cloud-training-demos-ml/taxifare/taxi_preproc4b/features_train-00006-of-00027.tfrecord.gz...\n",
      "/ [3/18 files][ 26.0 MiB/150.3 MiB]  17% Done                                   \r",
      "Copying gs://cloud-training-demos-ml/taxifare/taxi_preproc4b/features_train-00007-of-00027.tfrecord.gz...\n",
      "/ [3/18 files][ 26.0 MiB/150.3 MiB]  17% Done                                   \r",
      "/ [4/18 files][ 26.3 MiB/150.3 MiB]  17% Done                                   \r",
      "Copying gs://cloud-training-demos-ml/taxifare/taxi_preproc4b/features_train-00008-of-00027.tfrecord.gz...\n",
      "/ [4/18 files][ 27.0 MiB/150.3 MiB]  17% Done                                   \r",
      "-\r",
      "- [5/18 files][ 39.2 MiB/150.3 MiB]  26% Done                                   \r",
      "- [6/18 files][ 39.5 MiB/150.3 MiB]  26% Done                                   \r",
      "Copying gs://cloud-training-demos-ml/taxifare/taxi_preproc4b/features_train-00009-of-00027.tfrecord.gz...\n",
      "Copying gs://cloud-training-demos-ml/taxifare/taxi_preproc4b/features_train-00020-of-00027.tfrecord.gz...\n",
      "- [6/18 files][ 40.3 MiB/150.3 MiB]  26% Done                                   \r",
      "- [6/18 files][ 40.3 MiB/150.3 MiB]  26% Done                                   \r",
      "- [7/18 files][ 43.5 MiB/150.3 MiB]  28% Done                                   \r",
      "Copying gs://cloud-training-demos-ml/taxifare/taxi_preproc4b/features_train-00021-of-00027.tfrecord.gz...\n",
      "- [7/18 files][ 44.0 MiB/150.3 MiB]  29% Done                                   \r",
      "Copying gs://cloud-training-demos-ml/taxifare/taxi_preproc4b/features_train-00022-of-00027.tfrecord.gz...\n",
      "- [8/18 files][ 48.8 MiB/150.3 MiB]  32% Done                                   \r",
      "- [8/18 files][ 49.3 MiB/150.3 MiB]  32% Done                                   \r",
      "- [9/18 files][ 49.8 MiB/150.3 MiB]  33% Done                                   \r",
      "Copying gs://cloud-training-demos-ml/taxifare/taxi_preproc4b/features_train-00023-of-00027.tfrecord.gz...\n",
      "- [9/18 files][ 50.5 MiB/150.3 MiB]  33% Done                                   \r",
      "Copying gs://cloud-training-demos-ml/taxifare/taxi_preproc4b/features_train-00024-of-00027.tfrecord.gz...\n",
      "- [10/18 files][ 52.2 MiB/150.3 MiB]  34% Done                                  \r",
      "- [10/18 files][ 52.7 MiB/150.3 MiB]  35% Done                                  \r",
      "- [11/18 files][ 54.8 MiB/150.3 MiB]  36% Done                                  \r",
      "Copying gs://cloud-training-demos-ml/taxifare/taxi_preproc4b/features_train-00025-of-00027.tfrecord.gz...\n",
      "- [11/18 files][ 55.1 MiB/150.3 MiB]  36% Done                                  \r",
      "- [12/18 files][ 58.0 MiB/150.3 MiB]  38% Done                                  \r",
      "- [13/18 files][ 58.1 MiB/150.3 MiB]  38% Done                                  \r",
      "Copying gs://cloud-training-demos-ml/taxifare/taxi_preproc4b/features_train-00026-of-00027.tfrecord.gz...\n",
      "Copying gs://cloud-training-demos-ml/taxifare/taxi_preproc4b/metadata.yaml...\n",
      "- [13/18 files][ 58.1 MiB/150.3 MiB]  38% Done                                  \r",
      "- [13/18 files][ 58.1 MiB/150.3 MiB]  38% Done                                  \r",
      "\\\r",
      "\\ [14/18 files][ 64.0 MiB/150.3 MiB]  42% Done                                  \r",
      "\\ [15/18 files][ 68.0 MiB/150.3 MiB]  45% Done                                  \r",
      "\\ [16/18 files][ 72.5 MiB/150.3 MiB]  48% Done                                  \r",
      "|\r",
      "| [17/18 files][120.7 MiB/150.3 MiB]  80% Done                                  \r",
      "| [18/18 files][150.3 MiB/150.3 MiB] 100% Done                                  \r",
      "/\r\n",
      "Operation completed over 18 objects/150.3 MiB.                                   \n"
     ]
    }
   ],
   "source": [
    "%bash\n",
    "gsutil -m cp -R gs://cloud-training-demos-ml/taxifare/taxi_preproc4b /content/training-data-analyst/CPB102/lab4b"
   ]
  },
  {
   "cell_type": "code",
   "execution_count": null,
   "metadata": {
    "collapsed": false
   },
   "outputs": [
    {
     "data": {
      "text/html": [
       "<p>Job Running...</p>"
      ]
     },
     "metadata": {},
     "output_type": "display_data"
    },
    {
     "data": {
      "text/html": [
       "<a href=\"/_nocachecontent/master\" target=\"_blank\">master log</a>&nbsp;&nbsp;"
      ]
     },
     "metadata": {},
     "output_type": "display_data"
    },
    {
     "data": {
      "text/html": [
       "master: INFO:root:Step 200: loss = 8.97 (0.004 sec)<br/>master: <br/>master: INFO:root:Final rmse after 200 steps = 10.321<br/>master: INFO:root:Done training.<br/>master: plat  =  [128, 1]<br/>master: latdist  =  [128, 1]<br/>master: pickup  =  [128, 4]<br/>master: pickupdropoff  =  [128, 16]<br/>master: inputs= [128, 34]<br/>master: plat  =  [128, 1]<br/>master: latdist  =  [128, 1]<br/>master: pickup  =  [128, 4]<br/>master: pickupdropoff  =  [128, 16]<br/>master: inputs= [128, 34]<br/>master: plat  =  [None, 1]<br/>master: latdist  =  [None, 1]<br/>master: pickup  =  [None, 4]<br/>master: pickupdropoff  =  [None, 16]<br/>master: inputs= [None, 34]<br/>master: "
      ]
     },
     "metadata": {},
     "output_type": "display_data"
    },
    {
     "data": {
      "text/html": [
       "<p>Job Finished.</p>"
      ]
     },
     "metadata": {},
     "output_type": "display_data"
    }
   ],
   "source": [
    "%%mlalpha train\n",
    "package_uris: /content/training-data-analyst/CPB102/lab4b/taxifare.tar.gz\n",
    "python_module: trainer.task\n",
    "scale_tier: BASIC\n",
    "region: us-central1\n",
    "args:\n",
    "  train_data_paths: /content/training-data-analyst/CPB102/lab4b/taxi_preproc4b/features_train-0000*\n",
    "  eval_data_paths:  /content/training-data-analyst/CPB102/lab4b/taxi_preproc4b/features_train-0002*\n",
    "  metadata_path: /content/training-data-analyst/CPB102/lab4b/taxi_preproc4b/metadata.yaml\n",
    "  output_path: /content/training-data-analyst/CPB102/lab4b/taxi_trained\n",
    "  max_steps: 200\n",
    "  hidden_layer1_size: 8\n",
    "  number_buckets: 2\n",
    "  learning_rate: 0.01\n",
    "  batch_size: 128"
   ]
  },
  {
   "cell_type": "code",
   "execution_count": 1,
   "metadata": {
    "collapsed": false
   },
   "outputs": [
    {
     "data": {
      "text/html": [
       "<div id=\"ca256a50-09db-4aa0-82ac-6c636b5e6c84\" style=\"height: 525px; width: 100%;\" class=\"plotly-graph-div\"></div><script type=\"text/javascript\">require([\"plotly\"], function(Plotly) { window.PLOTLYENV=window.PLOTLYENV || {};window.PLOTLYENV.BASE_URL=\"https://plot.ly\";Plotly.newPlot(\"ca256a50-09db-4aa0-82ac-6c636b5e6c84\", [{\"y\": [10.38461971282959], \"x\": [200], \"type\": \"scatter\", \"name\": \"training/hptuning/metric-/content/training-data-analyst/CPB102/lab4b/taxi_trained/eval\"}, {\"y\": [], \"x\": [], \"type\": \"scatter\", \"name\": \"accuracy-/content/training-data-analyst/CPB102/lab4b/taxi_trained/eval\"}], {\"title\": \"training/hptuning/metric,accuracy\", \"xaxis\": {\"title\": \"step\"}, \"yaxis\": {\"title\": \"training/hptuning/metric,accuracy\"}}, {\"linkText\": \"Export to plot.ly\", \"showLink\": true})});</script>"
      ],
      "text/plain": [
       "<IPython.core.display.HTML object>"
      ]
     },
     "metadata": {},
     "output_type": "display_data"
    }
   ],
   "source": [
    "%mlalpha summary --dir /content/training-data-analyst/CPB102/lab4b/taxi_trained/eval --name training/hptuning/metric accuracy --step"
   ]
  },
  {
   "cell_type": "markdown",
   "metadata": {},
   "source": [
    "<h2> Hyperparameter tuning </h2>\n",
    "\n",
    "Now, we carry out the training, but this time on the cloud, and this time with some hyperparameters"
   ]
  },
  {
   "cell_type": "code",
   "execution_count": 14,
   "metadata": {
    "collapsed": false
   },
   "outputs": [
    {
     "name": "stdout",
     "output_type": "stream",
     "text": [
      "CommandException: 1 files/objects could not be removed.\r\n"
     ]
    }
   ],
   "source": [
    "!gsutil -m -q rm -r gs://cloud-training-demos-ml/taxifare/taxi_trained4b"
   ]
  },
  {
   "cell_type": "code",
   "execution_count": 15,
   "metadata": {
    "collapsed": false
   },
   "outputs": [
    {
     "data": {
      "text/html": [
       "<p>Job \"trainer_task_161009_041512\" was submitted successfully.<br/>Run \"%mlalpha jobs --name trainer_task_161009_041512\" to view the status of the job.</p><p>Click <a href=\"https://console.developers.google.com/logs/viewer?project=cloud-training-demos&resource=ml.googleapis.com%2Fjob_id%2Ftrainer_task_161009_041512\" target=\"_blank\">here</a> to view cloud log. <br/>Start TensorBoard by running \"%tensorboard start --logdir=&lt;YourLogDir&gt;\".</p>"
      ],
      "text/plain": [
       "<IPython.core.display.HTML object>"
      ]
     },
     "execution_count": 15,
     "metadata": {},
     "output_type": "execute_result"
    }
   ],
   "source": [
    "%%mlalpha train --cloud\n",
    "package_uris: gs://cloud-training-demos-ml/taxifare/source4b/taxifare.tar.gz\n",
    "python_module: trainer.task\n",
    "scale_tier: BASIC\n",
    "region: us-central1\n",
    "args:\n",
    "  train_data_paths: gs://cloud-training-demos-ml/taxifare/taxi_preproc4b/features_train-0000*\n",
    "  eval_data_paths: gs://cloud-training-demos-ml/taxifare/taxi_preproc4b/features_train-0002*\n",
    "  metadata_path: gs://cloud-training-demos-ml/taxifare/taxi_preproc4b/metadata.yaml\n",
    "  output_path: gs://cloud-training-demos-ml/taxifare/taxi_trained4b\n",
    "  max_steps: 2500\n",
    "hyperparameters:\n",
    "  goal: MINIMIZE\n",
    "  max_trials: 100\n",
    "  max_parallel_trials: 3\n",
    "  params:\n",
    "    - parameter_name: hidden_layer1_size\n",
    "      type: INTEGER\n",
    "      min_value: 128\n",
    "      max_value: 256\n",
    "      scale_type: UNIT_LINEAR_SCALE  \n",
    "    - parameter_name: number_buckets\n",
    "      type: INTEGER\n",
    "      min_value: 10\n",
    "      max_value: 25\n",
    "      scale_type: UNIT_LINEAR_SCALE  \n",
    "    - parameter_name: batch_size\n",
    "      type: DISCRETE\n",
    "      discrete_values: [128, 256, 512, 1024]  \n",
    "    - parameter_name: learning_rate\n",
    "      type: DOUBLE\n",
    "      min_value: 0.001\n",
    "      max_value: 0.1\n",
    "      scale_type: UNIT_LOG_SCALE  "
   ]
  },
  {
   "cell_type": "code",
   "execution_count": 20,
   "metadata": {
    "collapsed": false
   },
   "outputs": [
    {
     "data": {
      "text/html": [
       "<pre>createTime: '2016-10-08T00:00:24Z'\n",
       "endTime: '2016-10-08T03:08:16Z'\n",
       "jobId: trainer_task_161008_000023\n",
       "startTime: '2016-10-08T00:00:27Z'\n",
       "state: SUCCEEDED\n",
       "trainingInput:\n",
       "  args: [--train_data_paths, 'gs://cloud-training-demos-ml/taxifare/taxi_preproc4b/features_train-0000*',\n",
       "    --metadata_path, 'gs://cloud-training-demos-ml/taxifare/taxi_preproc4b/metadata.yaml',\n",
       "    --max_steps, '2500', --output_path, 'gs://cloud-training-demos-ml/taxifare/taxi_trained4b',\n",
       "    --eval_data_paths, 'gs://cloud-training-demos-ml/taxifare/taxi_preproc4b/features_train-0002*']\n",
       "  hyperparameters:\n",
       "    goal: MINIMIZE\n",
       "    maxParallelTrials: 3\n",
       "    maxTrials: 3\n",
       "    params:\n",
       "    - {maxValue: 256, minValue: 128, parameterName: hidden_layer1_size, scaleType: UNIT_LINEAR_SCALE,\n",
       "      type: INTEGER}\n",
       "    - {maxValue: 25, minValue: 10, parameterName: number_buckets, scaleType: UNIT_LINEAR_SCALE,\n",
       "      type: INTEGER}\n",
       "    - discreteValues: [128, 256, 512, 1024]\n",
       "      parameterName: batch_size\n",
       "      type: DISCRETE\n",
       "    - {maxValue: 0.1, minValue: 0.001, parameterName: learning_rate, scaleType: UNIT_LOG_SCALE,\n",
       "      type: DOUBLE}\n",
       "  packageUris: ['gs://cloud-training-demos-ml/taxifare/source4b/taxifare.tar.gz']\n",
       "  pythonModule: trainer.task\n",
       "  region: us-central1\n",
       "trainingOutput:\n",
       "  completedTrialCount: '3'\n",
       "  trials:\n",
       "  - hyperparameters: {batch_size: '256', hidden_layer1_size: '250', learning_rate: '0.012153404658055044',\n",
       "      number_buckets: '11'}\n",
       "    trialId: '3'\n",
       "  - hyperparameters: {batch_size: '1024', hidden_layer1_size: '133', learning_rate: '0.021715662701859713',\n",
       "      number_buckets: '12'}\n",
       "    trialId: '2'\n",
       "  - finalMetric: {objectiveValue: 9.18968296051, trainingStep: '11184'}\n",
       "    hyperparameters: {batch_size: '512', hidden_layer1_size: '147', learning_rate: '0.046980740433373969',\n",
       "      number_buckets: '19'}\n",
       "    trialId: '1'\n",
       "</pre>"
      ],
      "text/plain": [
       "<IPython.core.display.HTML object>"
      ]
     },
     "execution_count": 20,
     "metadata": {},
     "output_type": "execute_result"
    }
   ],
   "source": [
    "%mlalpha jobs --name  trainer_task_161008_000023"
   ]
  },
  {
   "cell_type": "markdown",
   "metadata": {},
   "source": [
    "<h2> Final training </h2>\n",
    "\n",
    "Use the hyperparameter training to retrain on full dataset and create the final model."
   ]
  },
  {
   "cell_type": "code",
   "execution_count": 1,
   "metadata": {
    "collapsed": false
   },
   "outputs": [
    {
     "name": "stdout",
     "output_type": "stream",
     "text": [
      "gs://cloud-training-demos-ml/taxifare/taxi_preproc4a_full/features_eval-00000-of-00196.tfrecord.gz\r\n",
      "gs://cloud-training-demos-ml/taxifare/taxi_preproc4a_full/features_eval-00001-of-00196.tfrecord.gz\r\n",
      "gs://cloud-training-demos-ml/taxifare/taxi_preproc4a_full/features_eval-00002-of-00196.tfrecord.gz\r\n",
      "gs://cloud-training-demos-ml/taxifare/taxi_preproc4a_full/features_eval-00003-of-00196.tfrecord.gz\r\n",
      "gs://cloud-training-demos-ml/taxifare/taxi_preproc4a_full/features_eval-00004-of-00196.tfrecord.gz\r\n"
     ]
    }
   ],
   "source": [
    "!gsutil ls gs://cloud-training-demos-ml/taxifare/taxi_preproc4a_full | head -5"
   ]
  },
  {
   "cell_type": "code",
   "execution_count": 21,
   "metadata": {
    "collapsed": false
   },
   "outputs": [
    {
     "name": "stdout",
     "output_type": "stream",
     "text": [
      "\n",
      "\n",
      "Updates are available for some Cloud SDK components.  To install them,\n",
      "please run:\n",
      "  $ gcloud components update\n",
      "\n",
      "CommandException: 1 files/objects could not be removed.\n"
     ]
    }
   ],
   "source": [
    "!gsutil -m -q rm -r gs://cloud-training-demos-ml/taxifare/taxi_trained4b_final"
   ]
  },
  {
   "cell_type": "code",
   "execution_count": null,
   "metadata": {
    "collapsed": false
   },
   "outputs": [
    {
     "data": {
      "text/html": [
       "<p>Job Running...</p>"
      ]
     },
     "metadata": {},
     "output_type": "display_data"
    },
    {
     "data": {
      "text/html": [
       "<a href=\"/_nocachecontent/master\" target=\"_blank\">master log</a>&nbsp;&nbsp;"
      ]
     },
     "metadata": {},
     "output_type": "display_data"
    },
    {
     "data": {
      "text/html": [
       "master: INFO:root:Eval, step 72: rmse = 5.145<br/>master: <br/>master: INFO:root:Eval, step 73: rmse = 6.284<br/>master: <br/>master: INFO:root:Eval, step 74: rmse = 7.242<br/>master: <br/>master: INFO:root:Eval, step 76: rmse = 5.110<br/>master: <br/>master: INFO:root:Eval, step 77: rmse = 6.312<br/>master: <br/>master: INFO:root:Eval, step 78: rmse = 7.686<br/>master: <br/>master: INFO:root:Eval, step 79: rmse = 7.149<br/>master: <br/>master: INFO:root:Eval, step 80: rmse = 4.992<br/>master: <br/>master: INFO:root:Eval, step 81: rmse = 5.924<br/>master: <br/>master: INFO:root:Eval, step 82: rmse = 6.059<br/>master: "
      ]
     },
     "metadata": {},
     "output_type": "display_data"
    }
   ],
   "source": [
    "%%mlalpha train --cloud\n",
    "package_uris:  gs://cloud-training-demos-ml/taxifare/source4b/taxifare.tar.gz\n",
    "python_module: trainer.task\n",
    "scale_tier: BASIC\n",
    "region: us-central1\n",
    "args:\n",
    "  train_data_paths: gs://cloud-training-demos-ml/taxifare/taxi_preproc4a_full//features_train-*\n",
    "  eval_data_paths:  gs://cloud-training-demos-ml/taxifare/taxi_preproc4a_full/features_eval-*\n",
    "  metadata_path: gs://cloud-training-demos-ml/taxifare/taxi_preproc4a_full/metadata.yaml\n",
    "  output_path: gs://cloud-training-demos-ml/taxifare/taxi_trained4b_final\n",
    "  max_steps: 2500\n",
    "  hidden_layer1_size: 147\n",
    "  number_buckets: 19\n",
    "  learning_rate: 0.047\n",
    "  batch_size: 512"
   ]
  },
  {
   "cell_type": "markdown",
   "metadata": {},
   "source": [
    "Copyright 2016 Google Inc. Licensed under the Apache License, Version 2.0 (the \"License\"); you may not use this file except in compliance with the License. You may obtain a copy of the License at http://www.apache.org/licenses/LICENSE-2.0 Unless required by applicable law or agreed to in writing, software distributed under the License is distributed on an \"AS IS\" BASIS, WITHOUT WARRANTIES OR CONDITIONS OF ANY KIND, either express or implied. See the License for the specific language governing permissions and limitations under the License"
   ]
  }
 ],
 "metadata": {
  "kernelspec": {
   "display_name": "Python 2",
   "language": "python",
   "name": "python2"
  },
  "language_info": {
   "codemirror_mode": {
    "name": "ipython",
    "version": 2
   },
   "file_extension": ".py",
   "mimetype": "text/x-python",
   "name": "python",
   "nbconvert_exporter": "python",
   "pygments_lexer": "ipython2",
   "version": "2.7.9"
  }
 },
 "nbformat": 4,
 "nbformat_minor": 0
}
